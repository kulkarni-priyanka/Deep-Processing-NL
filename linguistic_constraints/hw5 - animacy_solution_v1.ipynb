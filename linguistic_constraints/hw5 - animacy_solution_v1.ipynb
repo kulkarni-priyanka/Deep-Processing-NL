{
 "cells": [
  {
   "cell_type": "markdown",
   "metadata": {
    "inputHidden": false,
    "outputHidden": false
   },
   "source": [
    "# HW #5 Practice Worksheet: Animacy\n",
    "\n",
    "As practice for HW #5, this Python notebook uses NLTK's feature structure syntax to \n",
    "\n",
    "## Helper Functions\n",
    "\n",
    "One of the powers of using a notebook like this is that is essentially an interpreter, so we can treat it like an interactive sandbox, with some helpful visualization tools as well. Let's "
   ]
  },
  {
   "cell_type": "code",
   "execution_count": 1,
   "metadata": {},
   "outputs": [],
   "source": [
    "import nltk, re\n",
    "\n",
    "def init_parser(grammar_str):\n",
    "    \"\"\"\n",
    "    Initialize a feature parser based on the input grammar string.\n",
    "    \"\"\"\n",
    "    grammar = nltk.grammar.FeatureGrammar.fromstring(grammar_str)\n",
    "    return nltk.parse.FeatureIncrementalChartParser(grammar)\n",
    "\n",
    "def word_tokenize(sent):\n",
    "    # If you are receiving the \"punkt\" error, uncomment\n",
    "    # the following line -- it's not as good a tokenizer\n",
    "    # but it will function without nltk downloads:\n",
    "    # return re.split('\\s+', sent)\n",
    "    return nltk.tokenize.word_tokenize(sent)\n",
    "\n",
    "def init_sents(sent_str):\n",
    "    \"\"\"\n",
    "    Parse in a series of sentences, and their acceptability notation\n",
    "    as a tuple of (is_valid, sent).\n",
    "    \"\"\"\n",
    "    for sent in [s.strip() for s in sent_str.split('\\n') if s.strip()]:\n",
    "        is_valid = not sent.startswith('*')\n",
    "        tokens = nltk.tokenize.word_tokenize(re.sub('^\\*?\\s*', '', sent))\n",
    "        yield is_valid, tokens\n",
    "\n",
    "# A few IPython visualization tools\n",
    "from IPython.core.display import display_html, display_png\n",
    "def csscolor(s, c): return '<span style=\"color: {};\">{}</span>'.format(c, s)\n",
    "def html(s): display_html(s, raw=True)\n",
    "    \n",
    "def check_coverage(grammar_str, sent_str):\n",
    "    \"\"\"\n",
    "    A helper function to iterate over our defined grammar and sentence key,\n",
    "    and tell us whether or not we got the answer right for the given sentence.\n",
    "    \n",
    "    :type sent_list: list[str]\n",
    "    \"\"\"\n",
    "    ret_str = ''\n",
    "    parser = init_parser(grammar_str)\n",
    "    for is_valid, tokens in init_sents(sent_str):\n",
    "        valid_marker = '' if is_valid else '&#42; '\n",
    "        sent_repr = '{}{}'.format(valid_marker, ' '.join(tokens))\n",
    "        \n",
    "        def sent_error(extra=''):\n",
    "            html('\\u274C &nbsp;' + csscolor(sent_repr + extra, 'red'))\n",
    "        def sent_success(extra=''):\n",
    "            html('\\u2705 &nbsp;' + csscolor(sent_repr + extra, 'green'))\n",
    "        try:\n",
    "            parses = list(parser.parse(tokens))\n",
    "        except ValueError as ve:\n",
    "            html('\\u274C ' + csscolor(str(ve), 'red'))\n",
    "            continue\n",
    "        \n",
    "        if not parses:\n",
    "            if is_valid:\n",
    "                sent_error()\n",
    "            else:\n",
    "                sent_success()\n",
    "        else:\n",
    "            first_parse = ' {}'.format(parses[0])\n",
    "            if is_valid:                   \n",
    "                sent_success(str(parses[0]))\n",
    "            else:\n",
    "                sent_error(str(parses[0]))\n",
    "            # Comment out the following line if you're receiving\n",
    "            # a \"tkinter\" error:\n",
    "            display_png(parses[0])\n",
    "            \n",
    "    display_html(ret_str, raw=True)"
   ]
  },
  {
   "cell_type": "markdown",
   "metadata": {},
   "source": [
    "# Practice\n",
    "\n",
    "Note that in the sentences below, *\"**gifted**,\"*  is a ditransitive verb that requires the indirect object to be animate (in my idiolect). \n",
    "\n",
    "*(with thanks to Shannon for suggesting it)* — *\"**made**,\"* on the other hand, does not have such a distinction and can have this requirement left unspecified.\n",
    "\n"
   ]
  },
  {
   "cell_type": "code",
   "execution_count": 4,
   "metadata": {
    "inputHidden": false,
    "outputHidden": false,
    "scrolled": false
   },
   "outputs": [
    {
     "data": {
      "text/html": [
       "✅ &nbsp;<span style=\"color: green;\">John reached the summit on Tuesday .(S[]\n",
       "  (S[-INV]\n",
       "    (NP[GEN='mas', NUM='sg'] (PropN[GEN='mas', NUM='sg'] John))\n",
       "    (VP[-AUX]\n",
       "      (V[-AUX, NUM='sg', +ODEST, -ODUR, SUBCAT='trans'] reached)\n",
       "      (NP[NUM='sg'] (Det[] the) (Nom[NUM='sg'] (N[NUM='sg'] summit)))\n",
       "      (PP[+DEST, +DUR] (P[+DEST, +DUR, +on] on) (NP[] Tuesday))))\n",
       "  (PUNC[] .))</span>"
      ]
     },
     "metadata": {},
     "output_type": "display_data"
    },
    {
     "data": {
      "image/png": "[encoded data removed]"
     },
     "metadata": {},
     "output_type": "display_data"
    },
    {
     "data": {
      "text/html": []
     },
     "metadata": {},
     "output_type": "display_data"
    }
   ],
   "source": [
    "#WORKING CELL KEEP THIS\n",
    "\n",
    "sentences = '''\n",
    "John reached the summit on Tuesday .\n",
    "'''\n",
    "\n",
    "grammar='''\n",
    "\n",
    "% start S\n",
    "############################\n",
    "# Grammar Rules\n",
    "#############################\n",
    "\n",
    "# S expansion productions\n",
    "S -> S PUNC\n",
    "S[-INV] -> NP[NUM=?n, GEN=?g] VP[NUM=?n, GEN = ?g]\n",
    "S[-INV]/?x -> NP VP/?x\n",
    "S[-INV] -> NP S/NP\n",
    "S[+INV] -> V[+AUX] NP VP\n",
    "S[+INV]/?x -> V[+AUX] NP VP/?x\n",
    "\n",
    "SBar -> Comp S[-INV]\n",
    "\n",
    "# VP expansion productions\n",
    "VP[-AUX]/?x -> V[SUBCAT=ditrans,-AUX] NP/?x PP\n",
    "VP[-AUX] -> V[SUBCAT=ditrans,-AUX] NP[NUM=?n] PP\n",
    "VP[-AUX] -> V[SUBCAT=trans,-AUX] ADJ\n",
    "VP[GEN =?g,-AUX] -> V[SUBCAT=trans,-AUX] NP[GEN =?g,NUM=?n]\n",
    "VP[-AUX] -> V[SUBCAT=trans,-AUX,  ODUR = ?du] NP[NUM=?n] PP[DUR = ?du]\n",
    "VP[-AUX] -> V[SUBCAT=trans,-AUX,  ODEST = ?de] NP[NUM=?n] PP[DEST = ?de]\n",
    "VP[-AUX] -> V[SUBCAT=trans,-AUX,  ODEST = ?de]  PP\n",
    "VP[-AUX] -> V[SUBCAT=trans,-AUX,  ODUR = ?du]  PP\n",
    "VP[-AUX]/?x -> V[SUBCAT=trans,-AUX] NP/?x \n",
    "VP[-AUX]/?x -> V[SUBCAT=trans,-AUX] S[-INV]/?x \n",
    "VP[-AUX] -> V[SUBCAT=clause, -AUX] SBar\n",
    "VP[NUM=?n] -> V[SUBCAT=intrans, NUM=?n]\n",
    "\n",
    "# NP expansion productions\n",
    "NP/NP ->\n",
    "NP[NUM=?n] -> N[NUM=?n]\n",
    "NP[GEN =?g,NUM=?n] -> PropN[GEN =?g, NUM=?n]\n",
    "NP[GEN =?g,NUM=?n] -> RefPRP[GEN =?g,NUM=?n]\n",
    "NP[NUM=?n] -> Det[NUM=?n]  Nom[NUM=?n]\n",
    "NP[NUM=?n] -> CD[NUM=?n] Nom[NUM=?n]\n",
    "\n",
    "Nom[NUM=?n] -> N[NUM=?n]\n",
    "\n",
    "# PP expansion productions\n",
    "PP[ DEST = ?de, DUR = ?du] -> P[DEST = ?de, DUR = ?du] NP[NUM=?n] \n",
    "\n",
    "#############################\n",
    "# Lexical Rules\n",
    "#############################\n",
    "\n",
    "Det -> 'the'\n",
    "\n",
    "PropN[GEN =fem, NUM=sg] -> 'Mary'\n",
    "PropN[GEN =mas, NUM=sg] -> 'John'\n",
    "\n",
    "RefPRP[GEN =fem,NUM=sg] -> 'herself'\n",
    "RefPRP[GEN =mas, NUM=sg] -> 'himself'\n",
    "\n",
    "N[NUM=sg] -> 'book' | 'summit' | 'shelf' | 'dog' \n",
    "N[NUM=pl] -> 'minutes' |'dogs' | 'cats'\n",
    "\n",
    "NP[+WH] -> 'what'\n",
    "NP -> 'Tuesday' \n",
    "\n",
    "V[+AUX] -> 'did' | 'does'\n",
    "V[SUBCAT=ditrans,-AUX] -> 'put'\n",
    "V[SUBCAT=trans,-AUX, NUM=sg] -> 'know' | 'knows' | 'think' | 'saw' | 'was' \n",
    "V[SUBCAT=trans,-AUX, NUM=sg, ODEST = True, ODUR = False] -> 'reached'\n",
    "V[SUBCAT=trans,-AUX, NUM=sg, ODEST = False, ODUR = True] -> 'walked'\n",
    "V[SUBCAT=clause, -AUX] -> 'thought'\n",
    "V[SUBCAT=intrans,TENSE=pres,  NUM=sg] ->  'barks'\n",
    "V[SUBCAT=intrans,TENSE=pres,  NUM=pl] -> 'bark'\n",
    "\n",
    "Comp -> 'that'\n",
    "\n",
    "P[+on, DEST = True, DUR = True] -> 'on'\n",
    "P[+for,  DEST = False, DUR = True] -> 'for'\n",
    "\n",
    "PUNC -> '.' | '?'\n",
    "\n",
    "ADJ -> 'interesting'\n",
    "\n",
    "CD[NUM=pl] -> 'five'\n",
    "\n",
    "'''\n",
    "\n",
    "check_coverage(grammar, sentences)"
   ]
  },
  {
   "cell_type": "code",
   "execution_count": null,
   "metadata": {
    "collapsed": true
   },
   "outputs": [],
   "source": []
  }
 ],
 "metadata": {
  "kernel_info": {
   "name": "python3"
  },
  "kernelspec": {
   "display_name": "Python 3",
   "language": "python",
   "name": "python3"
  },
  "language_info": {
   "codemirror_mode": {
    "name": "ipython",
    "version": 3
   },
   "file_extension": ".py",
   "mimetype": "text/x-python",
   "name": "python",
   "nbconvert_exporter": "python",
   "pygments_lexer": "ipython3",
   "version": "3.6.4"
  },
  "nteract": {
   "version": "0.12.1"
  }
 },
 "nbformat": 4,
 "nbformat_minor": 1
}
