{
 "cells": [
  {
   "cell_type": "markdown",
   "metadata": {
    "inputHidden": false,
    "outputHidden": false
   },
   "source": [
    "# HW #9 "
   ]
  },
  {
   "cell_type": "code",
   "execution_count": 1,
   "metadata": {},
   "outputs": [],
   "source": [
    "import nltk, re\n",
    "\n",
    "def init_parser(grammar_str):\n",
    "    \"\"\"\n",
    "    Initialize a feature parser based on the input grammar string.\n",
    "    \"\"\"\n",
    "    grammar = nltk.grammar.CFG.fromstring(grammar_str)\n",
    "    return nltk.parse.EarleyChartParser(grammar)\n",
    "\n",
    "def word_tokenize(sent):\n",
    "    # If you are receiving the \"punkt\" error, uncomment\n",
    "    # the following line -- it's not as good a tokenizer\n",
    "    # but it will function without nltk downloads:\n",
    "    # return re.split('\\s+', sent)\n",
    "    return nltk.tokenize.word_tokenize(sent)\n",
    "\n",
    "def init_sents(sent_str):\n",
    "    \"\"\"\n",
    "    Parse in a series of sentences, and their acceptability notation\n",
    "    as a tuple of (is_valid, sent).\n",
    "    \"\"\"\n",
    "    for sent in [s.strip() for s in sent_str.split('\\n') if s.strip()]:\n",
    "        is_valid = not sent.startswith('*')\n",
    "        tokens = nltk.tokenize.word_tokenize(re.sub('^\\*?\\s*', '', sent))\n",
    "        yield is_valid, tokens\n",
    "\n",
    "# A few IPython visualization tools\n",
    "from IPython.core.display import display_html, display_png\n",
    "def csscolor(s, c): return '<span style=\"color: {};\">{}</span>'.format(c, s)\n",
    "def html(s): display_html(s, raw=True)\n",
    "    \n",
    "def check_coverage(grammar_str, sent_str):\n",
    "    \"\"\"\n",
    "    A helper function to iterate over our defined grammar and sentence key,\n",
    "    and tell us whether or not we got the answer right for the given sentence.\n",
    "    \n",
    "    :type sent_list: list[str]\n",
    "    \"\"\"\n",
    "    ret_str = ''\n",
    "    parser = init_parser(grammar_str)\n",
    "    for is_valid, tokens in init_sents(sent_str):\n",
    "        valid_marker = '' if is_valid else '&#42; '\n",
    "        sent_repr = '{}{}'.format(valid_marker, ' '.join(tokens))\n",
    "        \n",
    "        def sent_error(extra=''):\n",
    "            html('\\u274C &nbsp;' + csscolor(sent_repr + extra, 'red'))\n",
    "        def sent_success(extra=''):\n",
    "            html('\\u2705 &nbsp;' + csscolor(sent_repr + extra, 'green'))\n",
    "        try:\n",
    "            parses = list(parser.parse(tokens))\n",
    "        except ValueError as ve:\n",
    "            html('\\u274C ' + csscolor(str(ve), 'red'))\n",
    "            continue\n",
    "        \n",
    "        if not parses:\n",
    "            if is_valid:\n",
    "                sent_error()\n",
    "            else:\n",
    "                sent_success()\n",
    "        else:\n",
    "            first_parse = ' {}'.format(parses[0])\n",
    "            if is_valid:                   \n",
    "                sent_success(str(parses[0]))\n",
    "            else:\n",
    "                sent_error(str(parses[0]))\n",
    "            # Comment out the following line if you're receiving\n",
    "            # a \"tkinter\" error:\n",
    "            display_png(parses[0])\n",
    "            \n",
    "    display_html(ret_str, raw=True)"
   ]
  },
  {
   "cell_type": "markdown",
   "metadata": {},
   "source": [
    "# Practice\n",
    "\n",
    "Note that in the sentences below, *\"**gifted**,\"*  is a ditransitive verb that requires the indirect object to be animate (in my idiolect). \n",
    "\n",
    "*(with thanks to Shannon for suggesting it)* — *\"**made**,\"* on the other hand, does not have such a distinction and can have this requirement left unspecified.\n",
    "\n"
   ]
  },
  {
   "cell_type": "code",
   "execution_count": 8,
   "metadata": {
    "inputHidden": false,
    "outputExpanded": true,
    "outputHidden": false
   },
   "outputs": [
    {
     "data": {
      "text/html": [
       "✅ &nbsp;<span style=\"color: green;\">Scientists restored immunity in mice with a weak immune system .(S\n",
       "  (NP (Nom (NNS Scientists)))\n",
       "  (VP\n",
       "    (VBD restored)\n",
       "    (NP\n",
       "      (Nom (Nom (NN immunity)) (PP (Prep in) (NP (Nom (NNS mice))))))\n",
       "    (PP\n",
       "      (Prep with)\n",
       "      (NP\n",
       "        (Det a)\n",
       "        (Nom (ADJP (Adj weak) (ADJP (Adj immune))) (Nom (NN system))))))\n",
       "  (PUNC .))</span>"
      ]
     },
     "metadata": {},
     "output_type": "display_data"
    },
    {
     "data": {
      "image/png": "[encoded data removed]"
     },
     "metadata": {},
     "output_type": "display_data"
    },
    {
     "data": {
      "text/html": [
       "✅ &nbsp;<span style=\"color: green;\">They injected them with a live vaccine .(S\n",
       "  (NP (PRP They))\n",
       "  (VP\n",
       "    (VBD injected)\n",
       "    (NP (PRP them))\n",
       "    (PP\n",
       "      (Prep with)\n",
       "      (NP (Det a) (Nom (ADJP (Adj live)) (Nom (NN vaccine))))))\n",
       "  (PUNC .))</span>"
      ]
     },
     "metadata": {},
     "output_type": "display_data"
    },
    {
     "data": {
      "image/png": "[encoded data removed]"
     },
     "metadata": {},
     "output_type": "display_data"
    },
    {
     "data": {
      "text/html": []
     },
     "metadata": {},
     "output_type": "display_data"
    }
   ],
   "source": [
    "sentences = '''\n",
    "Scientists restored immunity in mice with a weak immune system.\n",
    "They injected them with a live vaccine.\n",
    "'''\n",
    "\n",
    "grammar='''S -> NP VP\n",
    "S -> NP VP PUNC\n",
    "S -> PP COM S PUNC\n",
    "\n",
    "VP -> VP ADVP\n",
    "VP -> VP Conj VP\n",
    "\n",
    "\n",
    "VP -> VBP NP\n",
    "VP -> VB PP\n",
    "VP -> VBD NP\n",
    "VP -> VBD NP PP\n",
    "VP -> VBZ NP\n",
    "VP -> AUX VP\n",
    "VP -> VBN PP\n",
    "VP -> VBZ RP\n",
    "VP -> VBN SBAR\n",
    "\n",
    "SBAR -> 'that' S\n",
    "\n",
    "ADVP -> Adv\n",
    "ADVP -> Adv ADVP\n",
    "\n",
    "NP -> Det Nom \n",
    "NP -> Nom\n",
    "NP -> PossPro Nom\n",
    "NP -> PRP\n",
    "\n",
    "Nom -> ADJP Nom\n",
    "Nom -> Nom PP\n",
    "Nom -> Nom Nom\n",
    "\n",
    "\n",
    "Nom -> NN\n",
    "Nom -> NNS\n",
    "Nom -> NNP\n",
    "\n",
    "ADJP -> Adj ADJP\n",
    "ADJP -> Adj \n",
    "\n",
    "PP -> Prep NP\n",
    "\n",
    "AUX -> Aux\n",
    "AUX -> AuxZ\n",
    "\n",
    "\n",
    "\n",
    "Det -> 'a'\n",
    "Det -> 'A'\n",
    "Det -> 'the'\n",
    "Det -> 'The'\n",
    "\n",
    "\n",
    "PRP -> 'this'\n",
    "PRP -> 'them'\n",
    "PRP -> 'They'\n",
    "\n",
    "Prep -> 'In'\n",
    "Prep -> 'with'\n",
    "Prep -> 'in'\n",
    "Prep -> 'of'\n",
    "Prep -> 'by' \n",
    "\n",
    "PossPro -> 'their' \n",
    "PossPro -> 'Their'\n",
    "\n",
    "Adv -> 'today'\n",
    "Adv -> 'online'\n",
    "\n",
    "Adj -> 'dendritic'\n",
    "Adj -> 'immune'\n",
    "Adj -> 'infected'\n",
    "Adj -> 'new'\n",
    "Adj -> 'Systemic'\n",
    "Adj -> 'weak'\n",
    "\n",
    "Conj -> 'and'\n",
    "\n",
    "\n",
    "NNS -> 'cells'\n",
    "NNS -> 'fragments'\n",
    "NNS -> 'humans'\n",
    "NNS -> 'infections'\n",
    "NNS -> 'mice'\n",
    "NNS -> 'Scientists'\n",
    "\n",
    "NN -> 'body'\n",
    "NN -> 'case'\n",
    "NN -> 'immunity'\n",
    "NN -> 'malaria'\n",
    "NN -> 'mouse' \n",
    "NN -> 'pathogen'\n",
    "NN -> 'research'\n",
    "NN -> 'researcher'\n",
    "NN -> 'response'\n",
    "NN -> 'sepsis'\n",
    "NN -> 'system'\n",
    "NN -> 'type'\n",
    "NN -> 'vaccine'\n",
    "\n",
    "NNP -> 'Dr'\n",
    "NNP -> 'Jose'\n",
    "NNP -> 'Villadangos'\n",
    "\n",
    "\n",
    "\n",
    "RP -> 'down'\n",
    "\n",
    "\n",
    "IN -> 'that'\n",
    "\n",
    "\n",
    "Aux -> 'have'\n",
    "AuxZ -> 'is'\n",
    "AuxZ -> 'was'\n",
    "AuxZ -> 'were'\n",
    "\n",
    "\n",
    "\n",
    "MD -> 'Will'\n",
    "\n",
    "VB  -> 'work'\n",
    "\n",
    "VBP -> 'alert'\n",
    "VBP -> 'capture'\n",
    "VBP -> 'display'\n",
    "VBP -> 'have'\n",
    "VBP -> 'overstimulate'\n",
    "\n",
    "VBD -> 'alerted'\n",
    "VBD -> 'injected'\n",
    "VBD -> 'published'\n",
    "VBD -> 'rescued' \n",
    "VBD -> 'restored'\n",
    "VBD -> 'was'\n",
    "\n",
    "VBN -> 'alerted'\n",
    "VBN -> 'compromised'\n",
    "VBN  -> 'discovered'\n",
    "VBN -> 'made'\n",
    "\n",
    "VBZ -> 'invades'\n",
    "VBZ -> 'is'\n",
    "VBZ -> 'shuts'\n",
    "\n",
    "Adj -> 'whole'\n",
    "Adj -> 'live'\n",
    "\n",
    "COM -> ','\n",
    "PUNC -> '?'\n",
    "PUNC -> '.'\n",
    "'''\n",
    "\n",
    "check_coverage(grammar, sentences)"
   ]
  },
  {
   "cell_type": "code",
   "execution_count": 16,
   "metadata": {
    "inputHidden": false,
    "outputHidden": false
   },
   "outputs": [
    {
     "data": {
      "text/html": [
       "✅ &nbsp;<span style=\"color: green;\">Ahmed gifted The The Rock a book(S[]\n",
       "  (NP[+animacy] (NNP[+animacy] Ahmed))\n",
       "  (VP[]\n",
       "    (V[+indobj_animacy] gifted)\n",
       "    (NP[animacy=?a]\n",
       "      (NNP[animacy=?n]\n",
       "        (NNP[animacy=?n]\n",
       "          (NNP[+animacy] The)\n",
       "          (NNP_BAR[] (NNP[+animacy] The)))\n",
       "        (NNP_BAR[] (NNP[+animacy] Rock))))\n",
       "    (NP[-animacy] (Det[] a) (N[-animacy] book))))</span>"
      ]
     },
     "metadata": {},
     "output_type": "display_data"
    },
    {
     "data": {
      "image/png": "[encoded data removed]"
     },
     "metadata": {},
     "output_type": "display_data"
    },
    {
     "data": {
      "text/html": [
       "✅ &nbsp;<span style=\"color: green;\">&#42; Ahmed gifted the rock a book</span>"
      ]
     },
     "metadata": {},
     "output_type": "display_data"
    },
    {
     "data": {
      "text/html": []
     },
     "metadata": {},
     "output_type": "display_data"
    }
   ],
   "source": [
    "# What can I say, except 'you're welcome'?\n",
    "dwayne_sentence = '''\n",
    "Ahmed gifted The The Rock a book\n",
    "*Ahmed gifted the rock a book\n",
    "'''\n",
    "\n",
    "dwayne_grammar = grammar + '''\n",
    "NNP[animacy=?n] -> NNP NNP_BAR \n",
    "NNP_BAR -> NNP\n",
    "NNP[animacy=True] -> 'The' | 'Rock'\n",
    "'''\n",
    "\n",
    "check_coverage(dwayne_grammar, dwayne_sentence)"
   ]
  },
  {
   "cell_type": "code",
   "execution_count": null,
   "metadata": {
    "inputHidden": false,
    "outputHidden": false
   },
   "outputs": [],
   "source": []
  }
 ],
 "metadata": {
  "kernel_info": {
   "name": "python3"
  },
  "kernelspec": {
   "display_name": "Python 3",
   "language": "python",
   "name": "python3"
  },
  "language_info": {
   "codemirror_mode": {
    "name": "ipython",
    "version": 3
   },
   "file_extension": ".py",
   "mimetype": "text/x-python",
   "name": "python",
   "nbconvert_exporter": "python",
   "pygments_lexer": "ipython3",
   "version": "3.6.4"
  },
  "nteract": {
   "version": "0.12.1"
  }
 },
 "nbformat": 4,
 "nbformat_minor": 4
}
