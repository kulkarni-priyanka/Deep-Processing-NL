{
 "cells": [
  {
   "cell_type": "markdown",
   "metadata": {
    "inputHidden": false,
    "outputHidden": false
   },
   "source": [
    "# HW #6 "
   ]
  },
  {
   "cell_type": "code",
   "execution_count": 5,
   "metadata": {},
   "outputs": [],
   "source": [
    "import nltk, re\n",
    "\n",
    "def init_parser(grammar_str):\n",
    "    \"\"\"\n",
    "    Initialize a feature parser based on the input grammar string.\n",
    "    \"\"\"\n",
    "    grammar = nltk.grammar.FeatureGrammar.fromstring(grammar_str)\n",
    "    return nltk.parse.FeatureIncrementalChartParser(grammar)\n",
    "\n",
    "def word_tokenize(sent):\n",
    "    # If you are receiving the \"punkt\" error, uncomment\n",
    "    # the following line -- it's not as good a tokenizer\n",
    "    # but it will function without nltk downloads:\n",
    "    # return re.split('\\s+', sent)\n",
    "    return nltk.tokenize.word_tokenize(sent)\n",
    "\n",
    "def init_sents(sent_str):\n",
    "    \"\"\"\n",
    "    Parse in a series of sentences, and their acceptability notation\n",
    "    as a tuple of (is_valid, sent).\n",
    "    \"\"\"\n",
    "    for sent in [s.strip() for s in sent_str.split('\\n') if s.strip()]:\n",
    "        is_valid = not sent.startswith('*')\n",
    "        tokens = nltk.tokenize.word_tokenize(re.sub('^\\*?\\s*', '', sent))\n",
    "        yield is_valid, tokens\n",
    "\n",
    "# A few IPython visualization tools\n",
    "from IPython.core.display import display_html, display_png\n",
    "def csscolor(s, c): return '<span style=\"color: {};\">{}</span>'.format(c, s)\n",
    "def html(s): display_html(s, raw=True)\n",
    "    \n",
    "def check_coverage(grammar_str, sent_str):\n",
    "    \"\"\"\n",
    "    A helper function to iterate over our defined grammar and sentence key,\n",
    "    and tell us whether or not we got the answer right for the given sentence.\n",
    "    \n",
    "    :type sent_list: list[str]\n",
    "    \"\"\"\n",
    "    ret_str = ''\n",
    "    parser = init_parser(grammar_str)\n",
    "    for is_valid, tokens in init_sents(sent_str):\n",
    "        valid_marker = '' if is_valid else '&#42; '\n",
    "        sent_repr = '{}{}'.format(valid_marker, ' '.join(tokens))\n",
    "        \n",
    "        def sent_error(extra=''):\n",
    "            html('\\u274C &nbsp;' + csscolor(sent_repr + extra, 'red'))\n",
    "        def sent_success(extra=''):\n",
    "            html('\\u2705 &nbsp;' + csscolor(sent_repr + extra, 'green'))\n",
    "        try:\n",
    "            parses = list(parser.parse(tokens))\n",
    "        except ValueError as ve:\n",
    "            html('\\u274C ' + csscolor(str(ve), 'red'))\n",
    "            continue\n",
    "        \n",
    "        if not parses:\n",
    "            if is_valid:\n",
    "                sent_error()\n",
    "            else:\n",
    "                sent_success()\n",
    "        else:\n",
    "            first_parse = ' {}'.format(parses[0])\n",
    "            if is_valid:                   \n",
    "                sent_success(str(parses[0]))\n",
    "            else:\n",
    "                sent_error(str(parses[0]))\n",
    "            # Comment out the following line if you're receiving\n",
    "            # a \"tkinter\" error:\n",
    "            display_png(parses[0])\n",
    "            \n",
    "    display_html(ret_str, raw=True)"
   ]
  },
  {
   "cell_type": "markdown",
   "metadata": {},
   "source": [
    "# Practice\n",
    "\n",
    "Note that in the sentences below, *\"**gifted**,\"*  is a ditransitive verb that requires the indirect object to be animate (in my idiolect). \n",
    "\n",
    "*(with thanks to Shannon for suggesting it)* — *\"**made**,\"* on the other hand, does not have such a distinction and can have this requirement left unspecified.\n",
    "\n"
   ]
  },
  {
   "cell_type": "code",
   "execution_count": 14,
   "metadata": {
    "inputHidden": false,
    "outputExpanded": true,
    "outputHidden": false
   },
   "outputs": [
    {
     "data": {
      "text/html": [
       "✅ &nbsp;<span style=\"color: green;\">nobody eats a bagel(S[SEM=<-exists x.(person(x) & exists z4.(bagel(z4) & exists e.(eating(e) & eater(e,x) & eatenthing(e,z4))))>]\n",
       "  (NP[NUM='sg', SEM=<\\Q.-exists x.(person(x) & Q(x))>]\n",
       "    (PropN[NUM='sg', SEM=<\\Q.-exists x.(person(x) & Q(x))>] nobody))\n",
       "  (VP[NUM='sg', SEM=<\\y.exists x.(bagel(x) & exists e.(eating(e) & eater(e,y) & eatenthing(e,x)))>]\n",
       "    (TV[NUM='sg', SEM=<\\X y.X(\\x.exists e.(eating(e) & eater(e,y) & eatenthing(e,x)))>, TNS='pres']\n",
       "      eats)\n",
       "    (NP[NUM='sg', SEM=<\\Q.exists x.(bagel(x) & Q(x))>]\n",
       "      (Det[NUM='sg', SEM=<\\P Q.exists x.(P(x) & Q(x))>] a)\n",
       "      (Nom[NUM='sg', SEM=<\\x.bagel(x)>]\n",
       "        (N[NUM='sg', SEM=<\\x.bagel(x)>] bagel)))))</span>"
      ]
     },
     "metadata": {},
     "output_type": "display_data"
    },
    {
     "data": {
      "image/png": "[encoded data removed]"
     },
     "metadata": {},
     "output_type": "display_data"
    },
    {
     "data": {
      "text/html": []
     },
     "metadata": {},
     "output_type": "display_data"
    }
   ],
   "source": [
    "sentences = '''\n",
    "nobody eats a bagel\n",
    "'''\n",
    "\n",
    "grammar='''\n",
    "\n",
    "% start S\n",
    "############################\n",
    "# Grammar Rules\n",
    "############################\n",
    "\n",
    "S[SEM = <?subj(?vp)>] -> NP[NUM=?n,SEM=?subj] VP[NUM=?n,SEM=?vp]\n",
    "\n",
    "NP[NUM=?n,SEM=<?det(?nom)> ] -> Det[NUM=?n,SEM=?det]  Nom[NUM=?n,SEM=?nom]\n",
    "NP[NUM=?n,SEM=?np] -> PropN[NUM=?n,SEM=?np]\n",
    "NP[NUM=?n,SEM=<?conj(?np1,?np2)>] -> PropN[NUM=?n,SEM=?np1] CONJ[SEM=?conj] PropN[NUM=?n,SEM=?np2]\n",
    "\n",
    "Nom[NUM=?n,SEM=?nom] -> N[NUM=?n,SEM=?nom]\n",
    "Nom[NUM=?n,SEM=<?conj(?nom1,?nom2)>] -> N[NUM=?n,SEM=?nom1] CONJ[SEM=?conj] N[NUM=?n,SEM=?nom2]\n",
    "\n",
    "VP[NUM=?n,SEM=?v] -> IV[NUM=?n,SEM=?v]\n",
    "VP[NUM=?n,SEM=<?v(?obj)>] -> TV[NUM=?n,SEM=?v] NP[SEM=?obj]\n",
    "VP[NUM=?n,SEM=<?conj(?v1,?v2)>] -> IV[NUM=?n,SEM=?v1] CONJ[SEM=?conj] IV[NUM=?n,SEM=?v2]\n",
    "VP[NUM=?n,SEM=<?conj(?v1(?obj1),?v2(?obj2))>] -> TV[NUM=?n,SEM=?v1] NP[SEM=?obj1] CONJ[SEM=?conj] TV[NUM=?n,SEM=?v2] NP[SEM=?obj2]\n",
    "VP[NUM=?n,SEM=<?conj(?v1(?obj1),?v2)>] -> TV[NUM=?n,SEM=?v1] NP[SEM=?obj1] CONJ[SEM=?conj] IV[NUM=?n,SEM=?v2]\n",
    "\n",
    "## Do auxiliaries\n",
    "VP[+neg,NUM=?n,SEM=<app(?v,?vp)>] -> AuxP[NUM=?n,SEM=?v] VP[NUM=pl,SEM=?vp]\n",
    "AuxP[NUM=?n,SEM=<app(?neg,?aux)>] -> Aux[NUM=?n,SEM=?aux] Neg[SEM=?neg]\n",
    "\n",
    "VP[NUM=?n,SEM=?v] -> IV[NUM=?n,SEM=?v] PP\n",
    "\n",
    "PP[SEM=<app(?p,?np)>] -> P[SEM=?p] NP[SEM=?np]\n",
    "\n",
    "############################\n",
    "# Lexical Rules\n",
    "############################\n",
    "\n",
    "PropN[NUM=sg,SEM=<\\\\P.P(John)>] -> 'John'\n",
    "PropN[NUM=sg,SEM=<\\\\P.P(Mary)>] -> 'Mary'\n",
    "PropN[NUM=sg,SEM=<\\\\P.P(Jack)>] -> 'Jack'\n",
    "PropN[NUM=sg,SEM=<\\\\Q. (- exists x.(person(x) & Q(x)))>] -> 'nobody'\n",
    "\n",
    "Det[NUM=sg,SEM=<\\\\P Q.all x.(P(x) -> Q(x))>] -> 'every'\n",
    "Det[NUM=pl,SEM=<\\\\P Q.all x.(P(x) -> Q(x))>] -> 'all'\n",
    "Det[NUM=sg,SEM=<\\\\P Q.exists x.(P(x) & Q(x))>] -> 'a'\n",
    "Det[NUM=sg,SEM=<\\\\P Q.exists x.(P(x) & Q(x))>] -> 'an'\n",
    "Det[NUM=sg,SEM=<\\\\P Q.(- exists x.(P(x) & Q(x)))>] -> 'no'\n",
    "\n",
    "N[NUM=sg,SEM=<\\\\x.student(x)>] -> 'student'\n",
    "N[NUM=pl,SEM=<\\\\x.student(x)>] -> 'students'\n",
    "N[NUM=sg,SEM=<\\\\x.sandwich(x)>] -> 'sandwich'\n",
    "N[NUM=sg,SEM=<\\\\x.soda(x)>] -> 'soda'\n",
    "N[NUM=sg,SEM=<\\\\x.essay(x)>] -> 'essay'\n",
    "N[NUM=sg,SEM=<\\\\x.bagel(x)>] -> 'bagel'\n",
    "N[NUM=sg,SEM=<\\\\x.person(x)>] -> 'person'\n",
    "\n",
    "CONJ[SEM=<\\\\X Y.(\\\\S. (X(S) | Y(S)))>] -> 'or'\n",
    "\n",
    "Aux[NUM=sg,SEM=<\\\\P x.P(x)>,tns=pres] -> 'does'\n",
    "\n",
    "Neg[SEM=<\\\\T P.T(\\\\x.(- P(x)))>] -> 'not'\n",
    "\n",
    "IV[SEM=<\\\\x.exists e.(barking(e) & barker(e,x))>] -> 'barks'\n",
    "IV[NUM=sg,SEM=<\\\\x.exists e.(eating(e) & eater(e,x))>,TNS=pres] -> 'eats'\n",
    "IV[NUM=pl,SEM=<\\\\x.exists e.(eating(e) & eater(e,x))>,TNS=pres] -> 'eat'\n",
    "IV[NUM=pl,SEM=<\\\\x.exists e.(drinking(e) & drinker(e,x))>,TNS=pres] -> 'drink'\n",
    "\n",
    "TV[NUM=sg,SEM=<\\\\X y.X(\\\\x.exists e.(eating(e) & eater(e,y) & eatenthing(e,x)))>,TNS=pres] -> 'eats'\n",
    "TV[NUM=sg,SEM=<\\\\X y.X(\\\\x.exists e.(drinking(e) & drinker(e,y) & drinkthing(e,x)))>,TNS=pres] -> 'drinks'\n",
    "TV[NUM=sg,SEM=<\\\\X y.X(\\\\x.exists e.(writing(e) & writer(e,y) & writtenthing(e,x)))>,TNS=pres] -> 'writes'\n",
    "'''\n",
    "\n",
    "check_coverage(grammar, sentences)"
   ]
  },
  {
   "cell_type": "code",
   "execution_count": null,
   "metadata": {},
   "outputs": [],
   "source": []
  }
 ],
 "metadata": {
  "kernel_info": {
   "name": "python3"
  },
  "kernelspec": {
   "display_name": "Python 3",
   "language": "python",
   "name": "python3"
  },
  "language_info": {
   "codemirror_mode": {
    "name": "ipython",
    "version": 3
   },
   "file_extension": ".py",
   "mimetype": "text/x-python",
   "name": "python",
   "nbconvert_exporter": "python",
   "pygments_lexer": "ipython3",
   "version": "3.6.4"
  },
  "nteract": {
   "version": "0.12.1"
  }
 },
 "nbformat": 4,
 "nbformat_minor": 4
}
